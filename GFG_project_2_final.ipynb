{
 "cells": [
  {
   "cell_type": "code",
   "execution_count": 3,
   "id": "977805a1",
   "metadata": {},
   "outputs": [],
   "source": [
    "from selenium import webdriver\n",
    "from selenium.webdriver.common.by import By\n",
    "from datetime import datetime, timedelta\n",
    "import time\n",
    "import pandas as pd"
   ]
  },
  {
   "cell_type": "code",
   "execution_count": 4,
   "id": "fcf05e60",
   "metadata": {},
   "outputs": [
    {
     "name": "stdout",
     "output_type": "stream",
     "text": [
      "                                                  Title       Views\n",
      "0     Free Cloud Bootcamp Sponsored by Google for De...   328 views\n",
      "1     All Your Queries Answered | DSA to Development...   735 views\n",
      "2     10 TIPS and TRICKS to Crack Internships and Pl...   687 views\n",
      "3     Complete School Guide for CBSE | Free Resource...   513 views\n",
      "4                  Master System Design | GeeksforGeeks  7.3K views\n",
      "...                                                 ...         ...\n",
      "1682  Length of shortest chain to reach a target wor...   41K views\n",
      "1683                          Binary Search | GeeksQuiz  188K views\n",
      "1684  Number of Triangles in an Undirected Graph | G...   18K views\n",
      "1685  Write a program to print all permutations of a...  479K views\n",
      "1686  Longest Span with same Sum in two Binary array...  290K views\n",
      "\n",
      "[1687 rows x 2 columns]\n"
     ]
    }
   ],
   "source": [
    "\n",
    "\n",
    "# Initialize the Chrome driver\n",
    "options = webdriver.ChromeOptions()\n",
    "options.add_argument('--headless')  # Run Chrome in headless mode (without GUI)\n",
    "driver = webdriver.Chrome(options=options)\n",
    "\n",
    "url = \"https://www.youtube.com/@GeeksforGeeksVideos/videos\"\n",
    "driver.get(url)\n",
    "\n",
    "SCROLL_PAUSE_TIME = 3\n",
    "\n",
    "# Get the current date and calculate the date 7 months ago\n",
    "current_date = datetime.now()\n",
    "seven_months_ago = current_date - timedelta(days=7 * 30)\n",
    "\n",
    "# Get scroll height\n",
    "last_height = driver.execute_script(\"return document.documentElement.scrollHeight\")\n",
    "\n",
    "while True:\n",
    "    # Scroll down to bottom\n",
    "    driver.execute_script(\"window.scrollTo(0, arguments[0]);\", last_height)\n",
    "    # Wait to load page\n",
    "    time.sleep(SCROLL_PAUSE_TIME)\n",
    "\n",
    "    # Calculate new scroll height and compare with last scroll height\n",
    "    new_height = driver.execute_script(\"return document.documentElement.scrollHeight\")\n",
    "    if new_height == last_height:\n",
    "        break\n",
    "    last_height = new_height\n",
    "    \n",
    "    # Check the timestamps of the videos and break if older than 7 months\n",
    "    video_dates = driver.find_elements(By.XPATH, '//div[@id=\"metadata-line\"]//span[contains(@class, \"style-scope ytd-thumbnail-overlay-time-status-renderer\")]')\n",
    "    if video_dates:\n",
    "        last_video_date = datetime.strptime(video_dates[-1].text, '%b %d, %Y')\n",
    "        if last_video_date < seven_months_ago:\n",
    "            break\n",
    "\n",
    "titles = driver.find_elements(By.XPATH, '//*[@id=\"video-title\"]')\n",
    "views = driver.find_elements(By.XPATH, '//*[@id=\"metadata-line\"]/span[1]')\n",
    "\n",
    "# Extract the text from title and view elements\n",
    "title_texts = [title.text for title in titles]\n",
    "view_texts = [view.text for view in views]\n",
    "\n",
    "# Create a DataFrame\n",
    "data = {'Title': title_texts, 'Views': view_texts}\n",
    "df = pd.DataFrame(data)\n",
    "\n",
    "# Print or use the DataFrame as needed\n",
    "print(df)\n",
    "\n",
    "# Close the driver\n",
    "driver.quit()\n"
   ]
  }
 ],
 "metadata": {
  "kernelspec": {
   "display_name": "Python 3 (ipykernel)",
   "language": "python",
   "name": "python3"
  },
  "language_info": {
   "codemirror_mode": {
    "name": "ipython",
    "version": 3
   },
   "file_extension": ".py",
   "mimetype": "text/x-python",
   "name": "python",
   "nbconvert_exporter": "python",
   "pygments_lexer": "ipython3",
   "version": "3.9.7"
  }
 },
 "nbformat": 4,
 "nbformat_minor": 5
}
